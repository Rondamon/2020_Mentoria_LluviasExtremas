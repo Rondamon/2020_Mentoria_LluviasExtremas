{
 "cells": [
  {
   "cell_type": "markdown",
   "metadata": {},
   "source": [
    "# Mentoría \"Predicción de lluvias extremas\""
   ]
  },
  {
   "cell_type": "markdown",
   "metadata": {},
   "source": [
    "# TP 2: Análisis y Curación de Datos"
   ]
  },
  {
   "cell_type": "code",
   "execution_count": 14,
   "metadata": {},
   "outputs": [],
   "source": [
    "Datos = pd.read_csv(\"https://raw.githubusercontent.com/Rondamon/2020_Mentoria_LluviasExtremas/master/dataset/datos_diarios_cordoba.csv\", parse_dates = True, index_col=\"fecha\")\n",
    "id_Datos = pd.read_csv(\"https://raw.githubusercontent.com/Rondamon/2020_Mentoria_LluviasExtremas/master/dataset/metadatos_estaciones.csv\")"
   ]
  },
  {
   "attachments": {},
   "cell_type": "markdown",
   "metadata": {},
   "source": [
    "## CONSIGNA TP2:\n",
    "\n",
    "En este TP, nos enfocaremos en la cuenca del río Carcarañá. Por lo tanto, las estaciones que utilizaremos del dataset anterior son las siguientes:\n",
    "- Pilar\n",
    "- Rio Cuarto\n",
    "- Marcos Juarez\n",
    "- La Florida\n",
    "- Pueblo Andino\n",
    "En todos los casos, considerar el año hidrológico como del 1/julio al 30/junio.\n",
    "\n",
    "\n",
    "## 1. Análisis y curación de datos de una API - formato JSON\n",
    "\n",
    "Referencias: https://darksky.net/dev/docs\n",
    "\n",
    "  1. Extraer los datos para las coordenadas de las estaciones antes indicadas.\n",
    "  2. ¿Cuántos años de datos hay?\n",
    "  3. ¿Existen valores faltantes? Cuantificarlos.\n",
    "  3. Generar un nuevo dataset a partir de los datos (time, summary, precipAccumulation, temperature, humidity, pressure, windSpeed, uvIndex, temperatureMin, temperatureMax.\n",
    "  4. Hacer las conversiones de unidades necesarias a estos datos para poder compararlos con el dataset \"datos_diarios_cordoba.csv\".\n",
    "  5. Comparar los estadísticos de estos datasets con los de cada estación.\n",
    "\n",
    "\n",
    "## 2. Análisis y curación de datos de un Excel y un TXT\n",
    "\n",
    "Referencias TerraClimate: http://www.climatologylab.org/terraclimate.html\n",
    "\n",
    "  1. Leer los datos de \"TerraClimate.csv\" y determinar para cada variable los valores promedios anuales (correspondiente a cada año hidrológico).\n",
    "  2. Hacer las conversiones de unidades necesarias para poder compararlos con cada estación.\n",
    "  3. Determinar para las estaciones de la cuenca del Carcarañá, los valores promedios anuales (año hidrológico) y comparar los estadísticos de este dataset con los de \"datos_diarios_cordoba.csv\".\n",
    "  4. Utilizar el dataset de TerraClimate para rellenar los datos faltantes en \"datos_diarios_cordoba.csv\" y guardar como un dataset nuevo. Hacer esto para todas las variables salvo para lluvia.\n",
    "  5. Agregar las demás variables del dataset de TerraClimate al creado en el punto 4. \n",
    "\n",
    "\n",
    "## 3. Análisis y curación de datos de un Excel y un TXT\n",
    "\n",
    "Referencias CHIRPS: https://disasters.nasa.gov/instruments/imerg\n",
    "\n",
    "  1. En cada año hidrológico, leer los datos de \"CHIRPS.txt\" y determinar la Precipitaciones Máximas Diarias Anuales (PMDA) y las Precipitaciones Totales Anuales para cada estación.\n",
    "  2. Graficar y comparar los estadísticos de estos datasets con los de cada estación (dataset \"datos_diarios_cordoba.csv\").\n",
    "  3. ¿Es posible rellenar la serie del dataset \"datos_diarios_cordoba.csv\"?\n",
    "  4. Agregar los nuevos features al dataset creado en el punto 5 de la parte 2 y exportar el dataset nuevo en formato csv.\n",
    "  5. A partir del dataset del punto 4, elaborar matrices de correlación entre las diferentes variables y las series de Precipitaciones Máximas Diarias Anuales (PMDA) para cada estación.\n",
    "\n",
    "\n",
    "## 4. Análisis y curación de Índices Climáticos en Excel\n",
    "\n",
    "Referencias: https://psl.noaa.gov/data/climateindices/list/\n",
    "\n",
    "  1. Leer el archivo \"indices_clim.xlsx\" y evaluar la cantidad de valores faltantes.\n",
    "  2. Convertir los datos faltantes en NaN.\n",
    "  3. Hacer matrices de correlación entre los diferentes índices climáticos y las series de Precipitaciones Máximas Diarias Anuales (PMDA) en las diferentes estaciones. Hacer esto para cada año hidrológico.\n",
    "  4. Repetir lo mismo para la serie de caudales máximos diarios anuales (QMDA) en Pueblo Andino."
   ]
  },
  {
   "cell_type": "markdown",
   "metadata": {},
   "source": [
    "## Ayuda Parte 1"
   ]
  },
  {
   "cell_type": "code",
   "execution_count": 40,
   "metadata": {},
   "outputs": [],
   "source": [
    "import datetime\n",
    "import requests"
   ]
  },
  {
   "cell_type": "code",
   "execution_count": 41,
   "metadata": {},
   "outputs": [],
   "source": [
    "baseUrl = \"https://api.darksky.net/forecast/<key>/<longitude>,<latitude>,<date>?exclude=flags,hourly&units=ca\""
   ]
  },
  {
   "cell_type": "code",
   "execution_count": 45,
   "metadata": {},
   "outputs": [],
   "source": [
    "#Tiempo en formato UNIX, cuenta los segundos desde el 1ro de Enero del 1970 en GMT\n",
    "#Las coordenadas actuales son las de Marcos Juarez\n",
    "replacedUrl = baseUrl.replace(\"<key>\", \"9349598e9f11f5eddceb6791daa6d787\").replace(\"<longitude>\", \"-64.533333\").replace(\"<latitude>\", \"-32.066667\").replace(\"<date>\", \"1559362638\")"
   ]
  },
  {
   "cell_type": "code",
   "execution_count": 43,
   "metadata": {},
   "outputs": [],
   "source": [
    "r = requests.get(url = replacedUrl) "
   ]
  },
  {
   "cell_type": "code",
   "execution_count": 44,
   "metadata": {},
   "outputs": [
    {
     "data": {
      "text/plain": [
       "{'latitude': -64.533333,\n",
       " 'longitude': -32.066667,\n",
       " 'timezone': 'Etc/GMT+2',\n",
       " 'currently': {'time': 1559362638,\n",
       "  'summary': 'Windy and Overcast',\n",
       "  'icon': 'wind',\n",
       "  'precipIntensity': 0.0079,\n",
       "  'precipProbability': 0.09,\n",
       "  'precipType': 'snow',\n",
       "  'precipAccumulation': 0.0208,\n",
       "  'temperature': -14.45,\n",
       "  'apparentTemperature': -26.99,\n",
       "  'dewPoint': -23.16,\n",
       "  'humidity': 0.48,\n",
       "  'pressure': 985.9,\n",
       "  'windSpeed': 42.52,\n",
       "  'windGust': 53.96,\n",
       "  'windBearing': 222,\n",
       "  'cloudCover': 1,\n",
       "  'uvIndex': 0,\n",
       "  'visibility': 15.815,\n",
       "  'ozone': 287.2},\n",
       " 'daily': {'data': [{'time': 1559354400,\n",
       "    'summary': 'Possible light snow (1–3 cm.) overnight.',\n",
       "    'icon': 'snow',\n",
       "    'sunriseTime': 1559389560,\n",
       "    'sunsetTime': 1559406540,\n",
       "    'moonPhase': 0.95,\n",
       "    'precipIntensity': 0.0198,\n",
       "    'precipIntensityMax': 0.0724,\n",
       "    'precipIntensityMaxTime': 1559431980,\n",
       "    'precipProbability': 0.52,\n",
       "    'precipType': 'snow',\n",
       "    'precipAccumulation': 1.5,\n",
       "    'temperatureHigh': -16.33,\n",
       "    'temperatureHighTime': 1559379600,\n",
       "    'temperatureLow': -18.14,\n",
       "    'temperatureLowTime': 1559435220,\n",
       "    'apparentTemperatureHigh': -30.18,\n",
       "    'apparentTemperatureHighTime': 1559379600,\n",
       "    'apparentTemperatureLow': -32.36,\n",
       "    'apparentTemperatureLowTime': 1559422800,\n",
       "    'dewPoint': -27.02,\n",
       "    'humidity': 0.43,\n",
       "    'pressure': 981.8,\n",
       "    'windSpeed': 46.59,\n",
       "    'windGust': 61.76,\n",
       "    'windGustTime': 1559386080,\n",
       "    'windBearing': 218,\n",
       "    'cloudCover': 0.99,\n",
       "    'uvIndex': 0,\n",
       "    'uvIndexTime': 1559397720,\n",
       "    'visibility': 16.038,\n",
       "    'ozone': 301.4,\n",
       "    'temperatureMin': -21.11,\n",
       "    'temperatureMinTime': 1559404620,\n",
       "    'temperatureMax': -13.17,\n",
       "    'temperatureMaxTime': 1559354400,\n",
       "    'apparentTemperatureMin': -36.52,\n",
       "    'apparentTemperatureMinTime': 1559404380,\n",
       "    'apparentTemperatureMax': -25.71,\n",
       "    'apparentTemperatureMaxTime': 1559354400}]},\n",
       " 'offset': -2}"
      ]
     },
     "execution_count": 44,
     "metadata": {},
     "output_type": "execute_result"
    }
   ],
   "source": [
    "data = r.json()\n",
    "data"
   ]
  },
  {
   "cell_type": "code",
   "execution_count": null,
   "metadata": {},
   "outputs": [],
   "source": []
  }
 ],
 "metadata": {
  "kernelspec": {
   "display_name": "Python 3",
   "language": "python",
   "name": "python3"
  },
  "language_info": {
   "codemirror_mode": {
    "name": "ipython",
    "version": 3
   },
   "file_extension": ".py",
   "mimetype": "text/x-python",
   "name": "python",
   "nbconvert_exporter": "python",
   "pygments_lexer": "ipython3",
   "version": "3.7.1"
  }
 },
 "nbformat": 4,
 "nbformat_minor": 2
}
